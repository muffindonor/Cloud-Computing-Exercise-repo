{
  "nbformat": 4,
  "nbformat_minor": 0,
  "metadata": {
    "colab": {
      "provenance": [],
      "authorship_tag": "ABX9TyN7kQtpIAnJW1oNbuiQtRYo",
      "include_colab_link": true
    },
    "kernelspec": {
      "name": "python3",
      "display_name": "Python 3"
    },
    "language_info": {
      "name": "python"
    }
  },
  "cells": [
    {
      "cell_type": "markdown",
      "metadata": {
        "id": "view-in-github",
        "colab_type": "text"
      },
      "source": [
        "<a href=\"https://colab.research.google.com/github/muffindonor/Cloud-Computing-Exercise-repo/blob/master/Ex5_FireBase.ipynb\" target=\"_parent\"><img src=\"https://colab.research.google.com/assets/colab-badge.svg\" alt=\"Open In Colab\"/></a>"
      ]
    },
    {
      "cell_type": "code",
      "source": [
        "!pip install firebase"
      ],
      "metadata": {
        "colab": {
          "base_uri": "https://localhost:8080/"
        },
        "id": "ZTy437csPNsM",
        "outputId": "20e6acf5-8c50-4258-b25d-c3d61d8ad2d6"
      },
      "execution_count": 2,
      "outputs": [
        {
          "output_type": "stream",
          "name": "stdout",
          "text": [
            "Collecting firebase\n",
            "  Downloading firebase-4.0.1-py3-none-any.whl.metadata (6.5 kB)\n",
            "Requirement already satisfied: requests in /usr/local/lib/python3.10/dist-packages (from firebase) (2.32.3)\n",
            "Requirement already satisfied: charset-normalizer<4,>=2 in /usr/local/lib/python3.10/dist-packages (from requests->firebase) (3.4.0)\n",
            "Requirement already satisfied: idna<4,>=2.5 in /usr/local/lib/python3.10/dist-packages (from requests->firebase) (3.10)\n",
            "Requirement already satisfied: urllib3<3,>=1.21.1 in /usr/local/lib/python3.10/dist-packages (from requests->firebase) (2.2.3)\n",
            "Requirement already satisfied: certifi>=2017.4.17 in /usr/local/lib/python3.10/dist-packages (from requests->firebase) (2024.12.14)\n",
            "Downloading firebase-4.0.1-py3-none-any.whl (12 kB)\n",
            "Installing collected packages: firebase\n",
            "Successfully installed firebase-4.0.1\n"
          ]
        }
      ]
    },
    {
      "cell_type": "code",
      "source": [
        "from firebase import firebase\n",
        "\n",
        "FBconn = firebase.FirebaseApplication('https://newyears-62342-default-rtdb.europe-west1.firebasedatabase.app/', None)\n",
        "\n",
        "def add_single_word(word):\n",
        "    data_to_upload = {'counter': 1}\n",
        "    result = FBconn.post('/sWords', {word: data_to_upload})\n",
        "    print(f\"'{word}' was added with initial counter = 1.\")\n",
        "\n",
        "def add_text_for_analysis(text):\n",
        "    for word in text.split():\n",
        "        result = FBconn.get(f'/sWords/{word}', None)\n",
        "        if result:\n",
        "            current_count = result['counter']\n",
        "            FBconn.put(f'/sWords/{word}', 'counter', current_count + 1)\n",
        "        else:\n",
        "            data_to_upload = {'counter': 1}\n",
        "            FBconn.post('/sWords', {word: data_to_upload})\n",
        "    print(\"Finished analyzing text and updating DB.\")\n",
        "\n",
        "def delete_word(word):\n",
        "    result = FBconn.delete(f'/sWords/{word}', None)\n",
        "    print(f\"'{word}' was deleted.\")\n",
        "\n",
        "def update_word_count(word, count):\n",
        "    data_to_upload = {'counter': count}\n",
        "    FBconn.put(f'/sWords/{word}', 'counter', count)\n",
        "    print(f\"'{word}' counter updated to {count}.\")\n",
        "\n",
        "def view_all_words():\n",
        "    result = FBconn.get('/sWords', None)\n",
        "    if result:\n",
        "        print(\"Words in database:\")\n",
        "        for entry_id, word_data in result.items():\n",
        "            for word, data in word_data.items():\n",
        "                print(f\"{word}: {data['counter']}\")\n",
        "    else:\n",
        "        print(\"No words in the database.\")\n",
        "\n",
        "def menu():\n",
        "    while True:\n",
        "        print(\"\\nCommon Words Counter Menu:\")\n",
        "        print(\"1. Add a single word\")\n",
        "        print(\"2. Add text for analysis\")\n",
        "        print(\"3. Update word count\")\n",
        "        print(\"4. Delete word\")\n",
        "        print(\"5. View all words\")\n",
        "        print(\"6. Exit\")\n",
        "\n",
        "        choice = input(\"Select an option (1-6): \")\n",
        "        if choice == '1':\n",
        "            word = input(\"Enter a single word: \")\n",
        "            add_single_word(word)\n",
        "        elif choice == '2':\n",
        "            text = input(\"Enter text for analysis: \")\n",
        "            add_text_for_analysis(text)\n",
        "        elif choice == '3':\n",
        "            word = input(\"Enter the word to update: \")\n",
        "            count = int(input(\"Enter the new count: \"))\n",
        "            update_word_count(word, count)\n",
        "        elif choice == '4':\n",
        "            word = input(\"Enter the word to delete: \")\n",
        "            delete_word(word)\n",
        "        elif choice == '5':\n",
        "            view_all_words()\n",
        "        elif choice == '6':\n",
        "            print(\"Exiting...\")\n",
        "            break\n",
        "        else:\n",
        "            print(\"Invalid option. Please try again.\")\n",
        "\n",
        "menu()\n"
      ],
      "metadata": {
        "colab": {
          "base_uri": "https://localhost:8080/"
        },
        "id": "1f5H2-mGPJfK",
        "outputId": "56083b84-0429-4622-d1e6-de750406744a"
      },
      "execution_count": 23,
      "outputs": [
        {
          "output_type": "stream",
          "name": "stdout",
          "text": [
            "\n",
            "Common Words Counter Menu:\n",
            "1. Add a single word\n",
            "2. Add text for analysis\n",
            "3. Update word count\n",
            "4. Delete word\n",
            "5. View all words\n",
            "6. Exit\n",
            "Select an option (1-6): 5\n",
            "Words in database:\n",
            "Bob: 1\n",
            "Big: 1\n",
            "Bob: 1\n",
            "went: 1\n",
            "to: 1\n",
            "the: 1\n",
            "store: 1\n",
            "\n",
            "Common Words Counter Menu:\n",
            "1. Add a single word\n",
            "2. Add text for analysis\n",
            "3. Update word count\n",
            "4. Delete word\n",
            "5. View all words\n",
            "6. Exit\n",
            "Select an option (1-6): 6\n",
            "Exiting...\n"
          ]
        }
      ]
    }
  ]
}